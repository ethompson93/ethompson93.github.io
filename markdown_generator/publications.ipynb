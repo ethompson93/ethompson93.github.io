{
 "cells": [
  {
   "cell_type": "markdown",
   "metadata": {},
   "source": [
    "# Publications markdown generator for academicpages\n",
    "\n",
    "Takes a TSV of publications with metadata and converts them for use with [academicpages.github.io](academicpages.github.io). This is an interactive Jupyter notebook ([see more info here](http://jupyter-notebook-beginner-guide.readthedocs.io/en/latest/what_is_jupyter.html)). The core python code is also in `publications.py`. Run either from the `markdown_generator` folder after replacing `publications.tsv` with one containing your data.\n",
    "\n",
    "TODO: Make this work with BibTex and other databases of citations, rather than Stuart's non-standard TSV format and citation style.\n"
   ]
  },
  {
   "cell_type": "markdown",
   "metadata": {},
   "source": [
    "## Data format\n",
    "\n",
    "The TSV needs to have the following columns: pub_date, title, venue, excerpt, citation, site_url, and paper_url, with a header at the top. \n",
    "\n",
    "- `excerpt` and `paper_url` can be blank, but the others must have values. \n",
    "- `pub_date` must be formatted as YYYY-MM-DD.\n",
    "- `url_slug` will be the descriptive part of the .md file and the permalink URL for the page about the paper. The .md file will be `YYYY-MM-DD-[url_slug].md` and the permalink will be `https://[yourdomain]/publications/YYYY-MM-DD-[url_slug]`\n",
    "\n",
    "This is how the raw file looks (it doesn't look pretty, use a spreadsheet or other program to edit and create)."
   ]
  },
  {
   "cell_type": "code",
   "execution_count": 1,
   "metadata": {},
   "outputs": [
    {
     "name": "stdout",
     "output_type": "stream",
     "text": [
      "pub_date\ttitle\tvenue\texcerpt\tcitation\turl_slug\tpaper_url\r",
      "\r\n",
      "21/08/2019\tMagnetic Resonance Imaging of Oxygen Microbubbles\tHealthcare Technology Letters\t\t\"<b>Thompson, E.</b>, Smart, S., Kinchesh, P., Bulte, D., Stride, E. (2019). \"\"Magentic resonance imaging of Oxygen microbubbles.\"\" <i>Healthcare Technology Letters</i>. 6(5).\"\tmicrobubbles\thttps://www.ncbi.nlm.nih.gov/pmc/articles/PMC6849496/\r",
      "\r\n",
      "15/11/2020\tNon-Negative Data-Driven Mapping of Structural Connections with Application to the Neonatal Brain\tNeuroImage\t\t\"<b>Thompson, E.</b>, Mohammadi-Nejad A.R., Robinson E.C., Andersson J.L.R., Jbabdi S., Glasser M.F., Bastiani M., Sotiropoulos S.N. (2020). \"\"Non-negative data-driven mapping of structural connections with application to the neonatal brain\"\" <i> NeuroImage</i>. 222\"\tNMF\thttps://doi.org/10.1016/j.neuroimage.2020.117273\r",
      "\r\n",
      "19/10/2022\tConcurrent Mapping of Brain Ontogeny and Phylogeny within a Common Space: Standardized Tractography and Applications\tScience Advances\t\t\"Warrington, S.*, <b>Thompson, E.*</b>, Bastiani M., Dubois J., Baxter L., Slater R., Jbabdi S., Mars R. B., Sotiropoulos S. N. (2022). \"\"Concurrent Mapping of Brain Ontogeny and Phylogeny within a Common Space: Standardized Tractography and Applications\"\". <i> Science Advances</i>. 8(42) *equal contributions\"\tbaby-xtract\thttps://www.science.org/doi/10.1126/sciadv.abq2022\r",
      "\r\n",
      "31/08/2023\tHow can we reduce the climate costs of OHBM? A vision for a more sustainable meeting\tAperture Neuro\t\t\"Epp, S., Jung, H., Borghesani, V., Klo_wer, M., Hoeppli, M., Misiura, M., <b>Thompson, E.</b>, Duncan, N. W., Urai, A. E., Veldsmann, M., Sadaghiani, S., Rae, C. L. (2023) How Can We Reduce the Climate Costs of OHBM? A Vision for a More Sustainable Meeting.\"\" <i>Aperture Neuro</i>, vol. 3, pp. 116\"\"\"\tsustainable OHBM\thttps://doi.org/10.52294/001c.87678\r",
      "\r\n",
      "01/10/2023\tA Coupled-Mechanisms Modelling Framework for Neurodegeneration\tInternational Conference on Medical Image Computing and Computer-Assisted Intervention\t\t\"He, T., <b>Thompson, E.*</b>, Schroder, A.*, Oxtoby, N. P., Abdulaal, A., Barkhof, F., Alexander, D. C. (2023). \"\"A Coupled-Mechanisms Modelling Framework for Neurodegeneration.\"\" <i>International Conference on Medical Image Computing and Computer-Assisted Intervention</i> 459-469\"\tcoupled_mechanisms\thttps://link.springer.com/chapter/10.1007/978-3-031-43993-3_45\r",
      "\r\n",
      "24/10/2023\t\"READi-DEM: ML-powered, web-interface tool for Robust, Efficient, Affordable Diagnosis of Dementia\"\tpreprint\t\t\"Klar, V.*, <b>Thompson, E.,*</b>, Atay M. S., Owoade P., Toniolo S., Dehsarvi A., Rathee S. (2023). \"\"READi-Dem: ML-powered, web-interface tool for Robust, Efficient, Affordable Diagnosis of Dementia\"\" <i>medRxiv</i>\"\tREADi-DEM\thttps://www.medrxiv.org/content/10.1101/2023.10.23.23297405v1\r",
      "\r\n",
      "05/02/2024\tCombining Multimodal Connectivity Information Improves Modelling of Pathology Spread in Alzheimer's Disease\tImaging Neuroscience\t\t\"<b>Thompson E.</b>, Schroder A., He T., Shand C., Soskic S., Oxtoby N. P., Barkhof F., Alexander D. C., (2024). \"\"Combining multimodal connectivity information improves modelling of pathology spread in Alzheimer's Disease\"\" <i> Imaging Neuroscience</i>\"\tmulti-modal_spread\thttps://direct.mit.edu/imag/article/doi/10.1162/imag_a_00089/119149/Combining-multimodal-connectivity-information"
     ]
    }
   ],
   "source": [
    "!cat publications.tsv"
   ]
  },
  {
   "cell_type": "markdown",
   "metadata": {},
   "source": [
    "## Import pandas\n",
    "\n",
    "We are using the very handy pandas library for dataframes."
   ]
  },
  {
   "cell_type": "code",
   "execution_count": 2,
   "metadata": {},
   "outputs": [],
   "source": [
    "import pandas as pd"
   ]
  },
  {
   "cell_type": "markdown",
   "metadata": {},
   "source": [
    "## Import TSV\n",
    "\n",
    "Pandas makes this easy with the read_csv function. We are using a TSV, so we specify the separator as a tab, or `\\t`.\n",
    "\n",
    "I found it important to put this data in a tab-separated values format, because there are a lot of commas in this kind of data and comma-separated values can get messed up. However, you can modify the import statement, as pandas also has read_excel(), read_json(), and others."
   ]
  },
  {
   "cell_type": "code",
   "execution_count": 3,
   "metadata": {},
   "outputs": [
    {
     "data": {
      "text/html": [
       "<div>\n",
       "<style scoped>\n",
       "    .dataframe tbody tr th:only-of-type {\n",
       "        vertical-align: middle;\n",
       "    }\n",
       "\n",
       "    .dataframe tbody tr th {\n",
       "        vertical-align: top;\n",
       "    }\n",
       "\n",
       "    .dataframe thead th {\n",
       "        text-align: right;\n",
       "    }\n",
       "</style>\n",
       "<table border=\"1\" class=\"dataframe\">\n",
       "  <thead>\n",
       "    <tr style=\"text-align: right;\">\n",
       "      <th></th>\n",
       "      <th>pub_date</th>\n",
       "      <th>title</th>\n",
       "      <th>venue</th>\n",
       "      <th>excerpt</th>\n",
       "      <th>citation</th>\n",
       "      <th>url_slug</th>\n",
       "      <th>paper_url</th>\n",
       "    </tr>\n",
       "  </thead>\n",
       "  <tbody>\n",
       "    <tr>\n",
       "      <th>0</th>\n",
       "      <td>21/08/2019</td>\n",
       "      <td>Magnetic Resonance Imaging of Oxygen Microbubbles</td>\n",
       "      <td>Healthcare Technology Letters</td>\n",
       "      <td>NaN</td>\n",
       "      <td>&lt;b&gt;Thompson, E.&lt;/b&gt;, Smart, S., Kinchesh, P., ...</td>\n",
       "      <td>microbubbles</td>\n",
       "      <td>https://www.ncbi.nlm.nih.gov/pmc/articles/PMC6...</td>\n",
       "    </tr>\n",
       "    <tr>\n",
       "      <th>1</th>\n",
       "      <td>15/11/2020</td>\n",
       "      <td>Non-Negative Data-Driven Mapping of Structural...</td>\n",
       "      <td>NeuroImage</td>\n",
       "      <td>NaN</td>\n",
       "      <td>&lt;b&gt;Thompson, E.&lt;/b&gt;, Mohammadi-Nejad A.R., Rob...</td>\n",
       "      <td>NMF</td>\n",
       "      <td>https://doi.org/10.1016/j.neuroimage.2020.117273</td>\n",
       "    </tr>\n",
       "    <tr>\n",
       "      <th>2</th>\n",
       "      <td>19/10/2022</td>\n",
       "      <td>Concurrent Mapping of Brain Ontogeny and Phylo...</td>\n",
       "      <td>Science Advances</td>\n",
       "      <td>NaN</td>\n",
       "      <td>Warrington, S.*, &lt;b&gt;Thompson, E.*&lt;/b&gt;, Bastian...</td>\n",
       "      <td>baby-xtract</td>\n",
       "      <td>https://www.science.org/doi/10.1126/sciadv.abq...</td>\n",
       "    </tr>\n",
       "    <tr>\n",
       "      <th>3</th>\n",
       "      <td>31/08/2023</td>\n",
       "      <td>How can we reduce the climate costs of OHBM? A...</td>\n",
       "      <td>Aperture Neuro</td>\n",
       "      <td>NaN</td>\n",
       "      <td>Epp, S., Jung, H., Borghesani, V., Klo_wer, M....</td>\n",
       "      <td>sustainable OHBM</td>\n",
       "      <td>https://doi.org/10.52294/001c.87678</td>\n",
       "    </tr>\n",
       "    <tr>\n",
       "      <th>4</th>\n",
       "      <td>01/10/2023</td>\n",
       "      <td>A Coupled-Mechanisms Modelling Framework for N...</td>\n",
       "      <td>International Conference on Medical Image Comp...</td>\n",
       "      <td>NaN</td>\n",
       "      <td>He, T., &lt;b&gt;Thompson, E.*&lt;/b&gt;, Schroder, A.*, O...</td>\n",
       "      <td>coupled_mechanisms</td>\n",
       "      <td>https://link.springer.com/chapter/10.1007/978-...</td>\n",
       "    </tr>\n",
       "    <tr>\n",
       "      <th>5</th>\n",
       "      <td>24/10/2023</td>\n",
       "      <td>READi-DEM: ML-powered, web-interface tool for ...</td>\n",
       "      <td>preprint</td>\n",
       "      <td>NaN</td>\n",
       "      <td>Klar, V.*, &lt;b&gt;Thompson, E.,*&lt;/b&gt;, Atay M. S., ...</td>\n",
       "      <td>READi-DEM</td>\n",
       "      <td>https://www.medrxiv.org/content/10.1101/2023.1...</td>\n",
       "    </tr>\n",
       "    <tr>\n",
       "      <th>6</th>\n",
       "      <td>05/02/2024</td>\n",
       "      <td>Combining Multimodal Connectivity Information ...</td>\n",
       "      <td>Imaging Neuroscience</td>\n",
       "      <td>NaN</td>\n",
       "      <td>&lt;b&gt;Thompson E.&lt;/b&gt;, Schroder A., He T., Shand ...</td>\n",
       "      <td>multi-modal_spread</td>\n",
       "      <td>https://direct.mit.edu/imag/article/doi/10.116...</td>\n",
       "    </tr>\n",
       "  </tbody>\n",
       "</table>\n",
       "</div>"
      ],
      "text/plain": [
       "     pub_date                                              title  \\\n",
       "0  21/08/2019  Magnetic Resonance Imaging of Oxygen Microbubbles   \n",
       "1  15/11/2020  Non-Negative Data-Driven Mapping of Structural...   \n",
       "2  19/10/2022  Concurrent Mapping of Brain Ontogeny and Phylo...   \n",
       "3  31/08/2023  How can we reduce the climate costs of OHBM? A...   \n",
       "4  01/10/2023  A Coupled-Mechanisms Modelling Framework for N...   \n",
       "5  24/10/2023  READi-DEM: ML-powered, web-interface tool for ...   \n",
       "6  05/02/2024  Combining Multimodal Connectivity Information ...   \n",
       "\n",
       "                                               venue  excerpt  \\\n",
       "0                      Healthcare Technology Letters      NaN   \n",
       "1                                         NeuroImage      NaN   \n",
       "2                                   Science Advances      NaN   \n",
       "3                                     Aperture Neuro      NaN   \n",
       "4  International Conference on Medical Image Comp...      NaN   \n",
       "5                                           preprint      NaN   \n",
       "6                               Imaging Neuroscience      NaN   \n",
       "\n",
       "                                            citation            url_slug  \\\n",
       "0  <b>Thompson, E.</b>, Smart, S., Kinchesh, P., ...        microbubbles   \n",
       "1  <b>Thompson, E.</b>, Mohammadi-Nejad A.R., Rob...                 NMF   \n",
       "2  Warrington, S.*, <b>Thompson, E.*</b>, Bastian...         baby-xtract   \n",
       "3  Epp, S., Jung, H., Borghesani, V., Klo_wer, M....    sustainable OHBM   \n",
       "4  He, T., <b>Thompson, E.*</b>, Schroder, A.*, O...  coupled_mechanisms   \n",
       "5  Klar, V.*, <b>Thompson, E.,*</b>, Atay M. S., ...           READi-DEM   \n",
       "6  <b>Thompson E.</b>, Schroder A., He T., Shand ...  multi-modal_spread   \n",
       "\n",
       "                                           paper_url  \n",
       "0  https://www.ncbi.nlm.nih.gov/pmc/articles/PMC6...  \n",
       "1   https://doi.org/10.1016/j.neuroimage.2020.117273  \n",
       "2  https://www.science.org/doi/10.1126/sciadv.abq...  \n",
       "3                https://doi.org/10.52294/001c.87678  \n",
       "4  https://link.springer.com/chapter/10.1007/978-...  \n",
       "5  https://www.medrxiv.org/content/10.1101/2023.1...  \n",
       "6  https://direct.mit.edu/imag/article/doi/10.116...  "
      ]
     },
     "execution_count": 3,
     "metadata": {},
     "output_type": "execute_result"
    }
   ],
   "source": [
    "publications = pd.read_csv(\"publications.tsv\", sep=\"\\t\", header=0)\n",
    "publications\n"
   ]
  },
  {
   "cell_type": "markdown",
   "metadata": {},
   "source": [
    "## Escape special characters\n",
    "\n",
    "YAML is very picky about how it takes a valid string, so we are replacing single and double quotes (and ampersands) with their HTML encoded equivilents. This makes them look not so readable in raw format, but they are parsed and rendered nicely."
   ]
  },
  {
   "cell_type": "code",
   "execution_count": 4,
   "metadata": {},
   "outputs": [],
   "source": [
    "html_escape_table = {\n",
    "    \"&\": \"&amp;\",\n",
    "    '\"': \"&quot;\",\n",
    "    \"'\": \"&apos;\"\n",
    "    }\n",
    "\n",
    "def html_escape(text):\n",
    "    \"\"\"Produce entities within text.\"\"\"\n",
    "    return \"\".join(html_escape_table.get(c,c) for c in text)"
   ]
  },
  {
   "cell_type": "markdown",
   "metadata": {},
   "source": [
    "## Creating the markdown files\n",
    "\n",
    "This is where the heavy lifting is done. This loops through all the rows in the TSV dataframe, then starts to concatentate a big string (```md```) that contains the markdown for each type. It does the YAML metadata first, then does the description for the individual page."
   ]
  },
  {
   "cell_type": "code",
   "execution_count": 5,
   "metadata": {},
   "outputs": [],
   "source": [
    "import os\n",
    "for row, item in publications.iterrows():\n",
    "    \n",
    "    md_filename = str(item.pub_date) + \"-\" + item.url_slug + \".md\"\n",
    "    html_filename = str(item.pub_date) + \"-\" + item.url_slug\n",
    "    year = item.pub_date[:4]\n",
    "    \n",
    "    ## YAML variables\n",
    "    \n",
    "    md = \"---\\ntitle: \\\"\"   + item.title + '\"\\n'\n",
    "    \n",
    "    md += \"\"\"collection: publications\"\"\"\n",
    "    \n",
    "    md += \"\"\"\\npermalink: /publication/\"\"\" + html_filename\n",
    "    \n",
    "    if len(str(item.excerpt)) > 5:\n",
    "        md += \"\\nexcerpt: '\" + html_escape(item.excerpt) + \"'\"\n",
    "    \n",
    "    md += \"\\ndate: \" + str(item.pub_date) \n",
    "    \n",
    "    md += \"\\nvenue: '\" + html_escape(item.venue) + \"'\"\n",
    "    \n",
    "    if len(str(item.paper_url)) > 5:\n",
    "        md += \"\\npaperurl: '\" + item.paper_url + \"'\"\n",
    "    \n",
    "    md += \"\\ncitation: '\" + html_escape(item.citation) + \"'\"\n",
    "    \n",
    "    md += \"\\n---\"\n",
    "    \n",
    "    ## Markdown description for individual page\n",
    "        \n",
    "    if len(str(item.excerpt)) > 5:\n",
    "        md += \"\\n\" + html_escape(item.excerpt) + \"\\n\"\n",
    "    \n",
    "    if len(str(item.paper_url)) > 5:\n",
    "        md += \"\\n[Download paper here](\" + item.paper_url + \")\\n\" \n",
    "        \n",
    "    md += \"\\nRecommended citation: \" + item.citation\n",
    "    \n",
    "    md_filename = os.path.basename(md_filename)\n",
    "       \n",
    "    with open(\"../_publications/\" + md_filename, 'w') as f:\n",
    "        f.write(md)"
   ]
  },
  {
   "cell_type": "markdown",
   "metadata": {},
   "source": [
    "These files are in the publications directory, one directory below where we're working from."
   ]
  },
  {
   "cell_type": "code",
   "execution_count": 6,
   "metadata": {},
   "outputs": [
    {
     "name": "stdout",
     "output_type": "stream",
     "text": [
      "2019-microbubbles.md       2023-coupled_mechanisms.md\r\n",
      "2020-NMF.md                2023-sustainable OHBM.md\r\n",
      "2022-baby-xtract.md        2024-multi-modal_spread.md\r\n",
      "2023-READi-DEM.md\r\n"
     ]
    }
   ],
   "source": [
    "!ls ../_publications/"
   ]
  },
  {
   "cell_type": "code",
   "execution_count": 7,
   "metadata": {},
   "outputs": [
    {
     "name": "stdout",
     "output_type": "stream",
     "text": [
      "cat: ../_publications/2009-10-01-paper-title-number-1.md: No such file or directory\r\n"
     ]
    }
   ],
   "source": [
    "!cat ../_publications/2009-10-01-paper-title-number-1.md"
   ]
  },
  {
   "cell_type": "code",
   "execution_count": null,
   "metadata": {},
   "outputs": [],
   "source": []
  },
  {
   "cell_type": "code",
   "execution_count": null,
   "metadata": {},
   "outputs": [],
   "source": []
  }
 ],
 "metadata": {
  "kernelspec": {
   "display_name": "Python 3 (ipykernel)",
   "language": "python",
   "name": "python3"
  },
  "language_info": {
   "codemirror_mode": {
    "name": "ipython",
    "version": 3
   },
   "file_extension": ".py",
   "mimetype": "text/x-python",
   "name": "python",
   "nbconvert_exporter": "python",
   "pygments_lexer": "ipython3",
   "version": "3.10.11"
  }
 },
 "nbformat": 4,
 "nbformat_minor": 1
}
