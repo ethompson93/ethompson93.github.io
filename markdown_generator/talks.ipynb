{
 "cells": [
  {
   "cell_type": "markdown",
   "metadata": {},
   "source": [
    "# Talks markdown generator for academicpages\n",
    "\n",
    "Takes a TSV of talks with metadata and converts them for use with [academicpages.github.io](academicpages.github.io). This is an interactive Jupyter notebook ([see more info here](http://jupyter-notebook-beginner-guide.readthedocs.io/en/latest/what_is_jupyter.html)). The core python code is also in `talks.py`. Run either from the `markdown_generator` folder after replacing `talks.tsv` with one containing your data.\n",
    "\n",
    "TODO: Make this work with BibTex and other databases, rather than Stuart's non-standard TSV format and citation style."
   ]
  },
  {
   "cell_type": "code",
   "execution_count": 9,
   "metadata": {},
   "outputs": [],
   "source": [
    "import pandas as pd\n",
    "import os"
   ]
  },
  {
   "cell_type": "markdown",
   "metadata": {},
   "source": [
    "## Data format\n",
    "\n",
    "The TSV needs to have the following columns: title, type, url_slug, venue, date, location, talk_url, description, with a header at the top. Many of these fields can be blank, but the columns must be in the TSV.\n",
    "\n",
    "- Fields that cannot be blank: `title`, `url_slug`, `date`. All else can be blank. `type` defaults to \"Talk\" \n",
    "- `date` must be formatted as YYYY-MM-DD.\n",
    "- `url_slug` will be the descriptive part of the .md file and the permalink URL for the page about the paper. \n",
    "    - The .md file will be `YYYY-MM-DD-[url_slug].md` and the permalink will be `https://[yourdomain]/talks/YYYY-MM-DD-[url_slug]`\n",
    "    - The combination of `url_slug` and `date` must be unique, as it will be the basis for your filenames\n",
    "\n",
    "This is how the raw file looks (it doesn't look pretty, use a spreadsheet or other program to edit and create)."
   ]
  },
  {
   "cell_type": "code",
   "execution_count": 10,
   "metadata": {},
   "outputs": [
    {
     "name": "stdout",
     "output_type": "stream",
     "text": [
      "title\ttype\turl_slug\tvenue\tdate\tlocation\ttalk_url\tdescription\n",
      "Analysis Techniques for Diffusion MRI\tTalk\ttalk-4\tISMRM Workshop on 40 Years of Diffusion\t16/02/2025\t\"Kyoto,  Japan\"\thttps://github.com/ethompson93/dmri_analysis_techniques\tLed educational bootcamp session on analysis techniques for diffusion MRI.\n",
      "Structural Connectomics Informed by Large Language Models\tPoster\tposter-6\tISMRM Workshop on 40 Years of Diffusion\t19/02/2025\t\"Kyoto,  Japan\"\t\t\n",
      "Combining multimodal connectivity information improves modelling of pathology spread in Alzheimer's disease\tTalk\ttalk-3\tAlzheimer's Association International Conference (AAIC)\t31/07/2024\t\"Philadelphia, USA\"\t\tFeatured research session - Tau accumulation and tau spreading patterns II\n",
      "Demonstration of an open-source toolbox for network spreading models: regional amyloid burden promotes tau production in Alzheimer's disease\tPoster\tposter-5\tAlzheimer's Association International Conference (AAIC)\t29/07/2024\t\"Philadelphia, USA\"\thttp://ethompson93.github.io/files/toolbox_poster.pdf\t\n",
      "Combining Multimodal Connectivity Improves Modelling of Pathology Spread In Alzheimer's Disease\tPoster\tposter-4\tOHBM Annual Meeting\t23/07/2023\t\"Montreal, Canada\"\thttp://ethompson93.github.io/files/OHBM_2023.pdf\t\n",
      "Data-Driven Decomposition of Diffusion MRI for Concurrent Extraction of White Matter Bundles and Grey Matter Networks\tTalk\ttalk-2\tNeuroimaging in Health and Disease Seminar Series\t19/01/2022\t\"Mallinckrodt Institute of Radiology, Washington University in St. Louis\"\t\t\n",
      "Non-Negative Decomposition of Structural Connectivity in the Developing Brain\tVirtual Poster\tposter-3\tOHBM Annual Meeting\t01/06/2020\tOnline\thttp://ethompson93.github.io/files/OHBM_2020.pdf\t\n",
      "Exploring the Gyral Bias on White Matter Tractography in Neonates\tPoster\tposter-1\tOHBM Annual Meeting\t01/06/2019\t\"Rome, Italy\"\thttp://ethompson93.github.io/files/poster_gb.pdf\t\n",
      "Data-Driven Mapping of Structural Connectivity Patterns in the Neonatal Brain\tPoster\tposter-2\tOHBM Annual Meeting\t01/06/2019\t\"Rome, Italy\"\thttp://ethompson93.github.io/files/poster_ICA.pdf\t\n",
      "Assessing the Asynchronous Macrostructural Changes in White Matter Tracts of the Developing Brain\tPower Pitch\ttalk-1\tISMRM Annual Meeting\t01/06/2018\t\"Paris, France\"\thttps://index.mirasmart.com/ISMRM2018/PDFfiles/0745.html\t"
     ]
    }
   ],
   "source": [
    "!cat talks.tsv"
   ]
  },
  {
   "cell_type": "markdown",
   "metadata": {},
   "source": [
    "## Import TSV\n",
    "\n",
    "Pandas makes this easy with the read_csv function. We are using a TSV, so we specify the separator as a tab, or `\\t`.\n",
    "\n",
    "I found it important to put this data in a tab-separated values format, because there are a lot of commas in this kind of data and comma-separated values can get messed up. However, you can modify the import statement, as pandas also has read_excel(), read_json(), and others."
   ]
  },
  {
   "cell_type": "code",
   "execution_count": 11,
   "metadata": {},
   "outputs": [
    {
     "data": {
      "text/html": [
       "<div>\n",
       "<style scoped>\n",
       "    .dataframe tbody tr th:only-of-type {\n",
       "        vertical-align: middle;\n",
       "    }\n",
       "\n",
       "    .dataframe tbody tr th {\n",
       "        vertical-align: top;\n",
       "    }\n",
       "\n",
       "    .dataframe thead th {\n",
       "        text-align: right;\n",
       "    }\n",
       "</style>\n",
       "<table border=\"1\" class=\"dataframe\">\n",
       "  <thead>\n",
       "    <tr style=\"text-align: right;\">\n",
       "      <th></th>\n",
       "      <th>title</th>\n",
       "      <th>type</th>\n",
       "      <th>url_slug</th>\n",
       "      <th>venue</th>\n",
       "      <th>date</th>\n",
       "      <th>location</th>\n",
       "      <th>talk_url</th>\n",
       "      <th>description</th>\n",
       "    </tr>\n",
       "  </thead>\n",
       "  <tbody>\n",
       "    <tr>\n",
       "      <th>0</th>\n",
       "      <td>Analysis Techniques for Diffusion MRI</td>\n",
       "      <td>Talk</td>\n",
       "      <td>talk-4</td>\n",
       "      <td>ISMRM Workshop on 40 Years of Diffusion</td>\n",
       "      <td>16/02/2025</td>\n",
       "      <td>Kyoto,  Japan</td>\n",
       "      <td>https://github.com/ethompson93/dmri_analysis_t...</td>\n",
       "      <td>Led educational bootcamp session on analysis t...</td>\n",
       "    </tr>\n",
       "    <tr>\n",
       "      <th>1</th>\n",
       "      <td>Structural Connectomics Informed by Large Lang...</td>\n",
       "      <td>Poster</td>\n",
       "      <td>poster-6</td>\n",
       "      <td>ISMRM Workshop on 40 Years of Diffusion</td>\n",
       "      <td>19/02/2025</td>\n",
       "      <td>Kyoto,  Japan</td>\n",
       "      <td>NaN</td>\n",
       "      <td>NaN</td>\n",
       "    </tr>\n",
       "    <tr>\n",
       "      <th>2</th>\n",
       "      <td>Combining multimodal connectivity information ...</td>\n",
       "      <td>Talk</td>\n",
       "      <td>talk-3</td>\n",
       "      <td>Alzheimer's Association International Conferen...</td>\n",
       "      <td>31/07/2024</td>\n",
       "      <td>Philadelphia, USA</td>\n",
       "      <td>NaN</td>\n",
       "      <td>Featured research session - Tau accumulation a...</td>\n",
       "    </tr>\n",
       "    <tr>\n",
       "      <th>3</th>\n",
       "      <td>Demonstration of an open-source toolbox for ne...</td>\n",
       "      <td>Poster</td>\n",
       "      <td>poster-5</td>\n",
       "      <td>Alzheimer's Association International Conferen...</td>\n",
       "      <td>29/07/2024</td>\n",
       "      <td>Philadelphia, USA</td>\n",
       "      <td>http://ethompson93.github.io/files/toolbox_pos...</td>\n",
       "      <td>NaN</td>\n",
       "    </tr>\n",
       "    <tr>\n",
       "      <th>4</th>\n",
       "      <td>Combining Multimodal Connectivity Improves Mod...</td>\n",
       "      <td>Poster</td>\n",
       "      <td>poster-4</td>\n",
       "      <td>OHBM Annual Meeting</td>\n",
       "      <td>23/07/2023</td>\n",
       "      <td>Montreal, Canada</td>\n",
       "      <td>http://ethompson93.github.io/files/OHBM_2023.pdf</td>\n",
       "      <td>NaN</td>\n",
       "    </tr>\n",
       "    <tr>\n",
       "      <th>5</th>\n",
       "      <td>Data-Driven Decomposition of Diffusion MRI for...</td>\n",
       "      <td>Talk</td>\n",
       "      <td>talk-2</td>\n",
       "      <td>Neuroimaging in Health and Disease Seminar Series</td>\n",
       "      <td>19/01/2022</td>\n",
       "      <td>Mallinckrodt Institute of Radiology, Washingto...</td>\n",
       "      <td>NaN</td>\n",
       "      <td>NaN</td>\n",
       "    </tr>\n",
       "    <tr>\n",
       "      <th>6</th>\n",
       "      <td>Non-Negative Decomposition of Structural Conne...</td>\n",
       "      <td>Virtual Poster</td>\n",
       "      <td>poster-3</td>\n",
       "      <td>OHBM Annual Meeting</td>\n",
       "      <td>01/06/2020</td>\n",
       "      <td>Online</td>\n",
       "      <td>http://ethompson93.github.io/files/OHBM_2020.pdf</td>\n",
       "      <td>NaN</td>\n",
       "    </tr>\n",
       "    <tr>\n",
       "      <th>7</th>\n",
       "      <td>Exploring the Gyral Bias on White Matter Tract...</td>\n",
       "      <td>Poster</td>\n",
       "      <td>poster-1</td>\n",
       "      <td>OHBM Annual Meeting</td>\n",
       "      <td>01/06/2019</td>\n",
       "      <td>Rome, Italy</td>\n",
       "      <td>http://ethompson93.github.io/files/poster_gb.pdf</td>\n",
       "      <td>NaN</td>\n",
       "    </tr>\n",
       "    <tr>\n",
       "      <th>8</th>\n",
       "      <td>Data-Driven Mapping of Structural Connectivity...</td>\n",
       "      <td>Poster</td>\n",
       "      <td>poster-2</td>\n",
       "      <td>OHBM Annual Meeting</td>\n",
       "      <td>01/06/2019</td>\n",
       "      <td>Rome, Italy</td>\n",
       "      <td>http://ethompson93.github.io/files/poster_ICA.pdf</td>\n",
       "      <td>NaN</td>\n",
       "    </tr>\n",
       "    <tr>\n",
       "      <th>9</th>\n",
       "      <td>Assessing the Asynchronous Macrostructural Cha...</td>\n",
       "      <td>Power Pitch</td>\n",
       "      <td>talk-1</td>\n",
       "      <td>ISMRM Annual Meeting</td>\n",
       "      <td>01/06/2018</td>\n",
       "      <td>Paris, France</td>\n",
       "      <td>https://index.mirasmart.com/ISMRM2018/PDFfiles...</td>\n",
       "      <td>NaN</td>\n",
       "    </tr>\n",
       "  </tbody>\n",
       "</table>\n",
       "</div>"
      ],
      "text/plain": [
       "                                               title            type  \\\n",
       "0              Analysis Techniques for Diffusion MRI            Talk   \n",
       "1  Structural Connectomics Informed by Large Lang...          Poster   \n",
       "2  Combining multimodal connectivity information ...            Talk   \n",
       "3  Demonstration of an open-source toolbox for ne...          Poster   \n",
       "4  Combining Multimodal Connectivity Improves Mod...          Poster   \n",
       "5  Data-Driven Decomposition of Diffusion MRI for...            Talk   \n",
       "6  Non-Negative Decomposition of Structural Conne...  Virtual Poster   \n",
       "7  Exploring the Gyral Bias on White Matter Tract...          Poster   \n",
       "8  Data-Driven Mapping of Structural Connectivity...          Poster   \n",
       "9  Assessing the Asynchronous Macrostructural Cha...     Power Pitch   \n",
       "\n",
       "   url_slug                                              venue        date  \\\n",
       "0    talk-4            ISMRM Workshop on 40 Years of Diffusion  16/02/2025   \n",
       "1  poster-6            ISMRM Workshop on 40 Years of Diffusion  19/02/2025   \n",
       "2    talk-3  Alzheimer's Association International Conferen...  31/07/2024   \n",
       "3  poster-5  Alzheimer's Association International Conferen...  29/07/2024   \n",
       "4  poster-4                                OHBM Annual Meeting  23/07/2023   \n",
       "5    talk-2  Neuroimaging in Health and Disease Seminar Series  19/01/2022   \n",
       "6  poster-3                                OHBM Annual Meeting  01/06/2020   \n",
       "7  poster-1                                OHBM Annual Meeting  01/06/2019   \n",
       "8  poster-2                                OHBM Annual Meeting  01/06/2019   \n",
       "9    talk-1                               ISMRM Annual Meeting  01/06/2018   \n",
       "\n",
       "                                            location  \\\n",
       "0                                      Kyoto,  Japan   \n",
       "1                                      Kyoto,  Japan   \n",
       "2                                  Philadelphia, USA   \n",
       "3                                  Philadelphia, USA   \n",
       "4                                   Montreal, Canada   \n",
       "5  Mallinckrodt Institute of Radiology, Washingto...   \n",
       "6                                             Online   \n",
       "7                                        Rome, Italy   \n",
       "8                                        Rome, Italy   \n",
       "9                                      Paris, France   \n",
       "\n",
       "                                            talk_url  \\\n",
       "0  https://github.com/ethompson93/dmri_analysis_t...   \n",
       "1                                                NaN   \n",
       "2                                                NaN   \n",
       "3  http://ethompson93.github.io/files/toolbox_pos...   \n",
       "4   http://ethompson93.github.io/files/OHBM_2023.pdf   \n",
       "5                                                NaN   \n",
       "6   http://ethompson93.github.io/files/OHBM_2020.pdf   \n",
       "7   http://ethompson93.github.io/files/poster_gb.pdf   \n",
       "8  http://ethompson93.github.io/files/poster_ICA.pdf   \n",
       "9  https://index.mirasmart.com/ISMRM2018/PDFfiles...   \n",
       "\n",
       "                                         description  \n",
       "0  Led educational bootcamp session on analysis t...  \n",
       "1                                                NaN  \n",
       "2  Featured research session - Tau accumulation a...  \n",
       "3                                                NaN  \n",
       "4                                                NaN  \n",
       "5                                                NaN  \n",
       "6                                                NaN  \n",
       "7                                                NaN  \n",
       "8                                                NaN  \n",
       "9                                                NaN  "
      ]
     },
     "execution_count": 11,
     "metadata": {},
     "output_type": "execute_result"
    }
   ],
   "source": [
    "talks = pd.read_csv(\"talks.tsv\", sep=\"\\t\", header=0)\n",
    "talks"
   ]
  },
  {
   "cell_type": "markdown",
   "metadata": {},
   "source": [
    "## Escape special characters\n",
    "\n",
    "YAML is very picky about how it takes a valid string, so we are replacing single and double quotes (and ampersands) with their HTML encoded equivilents. This makes them look not so readable in raw format, but they are parsed and rendered nicely."
   ]
  },
  {
   "cell_type": "code",
   "execution_count": 12,
   "metadata": {},
   "outputs": [],
   "source": [
    "html_escape_table = {\n",
    "    \"&\": \"&amp;\",\n",
    "    '\"': \"&quot;\",\n",
    "    \"'\": \"&apos;\"\n",
    "    }\n",
    "\n",
    "def html_escape(text):\n",
    "    if type(text) is str:\n",
    "        return \"\".join(html_escape_table.get(c,c) for c in text)\n",
    "    else:\n",
    "        return \"False\""
   ]
  },
  {
   "cell_type": "markdown",
   "metadata": {},
   "source": [
    "## Creating the markdown files\n",
    "\n",
    "This is where the heavy lifting is done. This loops through all the rows in the TSV dataframe, then starts to concatentate a big string (```md```) that contains the markdown for each type. It does the YAML metadata first, then does the description for the individual page."
   ]
  },
  {
   "cell_type": "code",
   "execution_count": 13,
   "metadata": {},
   "outputs": [],
   "source": [
    "loc_dict = {}\n",
    "\n",
    "for row, item in talks.iterrows():\n",
    "    \n",
    "    md_filename = str(item.date) + \"-\" + item.url_slug + \".md\"\n",
    "    html_filename = str(item.date) + \"-\" + item.url_slug \n",
    "    year = item.date[:4]\n",
    "    \n",
    "    md = \"---\\ntitle: \\\"\"   + item.title + '\"\\n'\n",
    "    md += \"collection: talks\" + \"\\n\"\n",
    "    \n",
    "    if len(str(item.type)) > 3:\n",
    "        md += 'type: \"' + item.type + '\"\\n'\n",
    "    else:\n",
    "        md += 'type: \"Talk\"\\n'\n",
    "    \n",
    "    md += \"permalink: /talks/\" + html_filename + \"\\n\"\n",
    "    \n",
    "    if len(str(item.venue)) > 3:\n",
    "        md += 'venue: \"' + item.venue + '\"\\n'\n",
    "        \n",
    "    if len(str(item.location)) > 3:\n",
    "        md += \"date: \" + str(item.date) + \"\\n\"\n",
    "    \n",
    "    if len(str(item.location)) > 3:\n",
    "        md += 'location: \"' + str(item.location) + '\"\\n'\n",
    "           \n",
    "    md += \"---\\n\"\n",
    "    \n",
    "    \n",
    "    if len(str(item.talk_url)) > 3:\n",
    "        md += \"\\n[More information here](\" + item.talk_url + \")\\n\" \n",
    "        \n",
    "    \n",
    "    if len(str(item.description)) > 3:\n",
    "        md += \"\\n\" + html_escape(item.description) + \"\\n\"\n",
    "        \n",
    "        \n",
    "    md_filename = os.path.basename(md_filename)\n",
    "    #print(md)\n",
    "    \n",
    "    with open(\"../_talks/\" + md_filename, 'w') as f:\n",
    "        f.write(md)"
   ]
  },
  {
   "cell_type": "code",
   "execution_count": 14,
   "metadata": {},
   "outputs": [
    {
     "data": {
      "text/plain": [
       "'talk-1'"
      ]
     },
     "execution_count": 14,
     "metadata": {},
     "output_type": "execute_result"
    }
   ],
   "source": [
    "item.url_slug"
   ]
  },
  {
   "cell_type": "markdown",
   "metadata": {},
   "source": [
    "These files are in the talks directory, one directory below where we're working from."
   ]
  },
  {
   "cell_type": "code",
   "execution_count": 15,
   "metadata": {},
   "outputs": [
    {
     "name": "stdout",
     "output_type": "stream",
     "text": [
      "2018-talk-1.md   2020-poster-3.md 2024-poster-5.md 2025-talk-4.md\n",
      "2019-poster-1.md 2022-talk-2.md   2024-talk-3.md\n",
      "2019-poster-2.md 2023-poster-4.md 2025-poster-6.md\n"
     ]
    }
   ],
   "source": [
    "!ls ../_talks"
   ]
  },
  {
   "cell_type": "code",
   "execution_count": 16,
   "metadata": {},
   "outputs": [
    {
     "name": "stdout",
     "output_type": "stream",
     "text": [
      "cat: ../_talks/2013-03-01-tutorial-1.md: No such file or directory\n"
     ]
    }
   ],
   "source": [
    "!cat ../_talks/2013-03-01-tutorial-1.md"
   ]
  },
  {
   "cell_type": "code",
   "execution_count": null,
   "metadata": {},
   "outputs": [],
   "source": []
  }
 ],
 "metadata": {
  "kernelspec": {
   "display_name": "base",
   "language": "python",
   "name": "python3"
  },
  "language_info": {
   "codemirror_mode": {
    "name": "ipython",
    "version": 3
   },
   "file_extension": ".py",
   "mimetype": "text/x-python",
   "name": "python",
   "nbconvert_exporter": "python",
   "pygments_lexer": "ipython3",
   "version": "3.10.11"
  }
 },
 "nbformat": 4,
 "nbformat_minor": 1
}
